{
 "cells": [
  {
   "cell_type": "code",
   "execution_count": 1,
   "metadata": {},
   "outputs": [],
   "source": [
    "# Map Castilla y León cultural agenda geolocalized\n",
    "import os\n",
    "import folium  #Librería para mapas\n",
    "import requests # Librería para hacer requests con url's\n",
    "import time\n",
    "import webbrowser # Librería para interactuar con el navegador\n",
    "import bs4 # Web Scrapping\n",
    "import random\n",
    "import base64\n",
    "import cv2\n",
    "import numpy as np # Numpy\n",
    "import urllib\n",
    "from IPython.display import Image\n"
   ]
  },
  {
   "cell_type": "code",
   "execution_count": 2,
   "metadata": {},
   "outputs": [
    {
     "name": "stdout",
     "output_type": "stream",
     "text": [
      "https://datosabiertos.jcyl.es/web/jcyl/risp/es/cultura-ocio/agenda_cultural/1284806871500.json\n"
     ]
    }
   ],
   "source": [
    "# Web Scrapping\n",
    "\n",
    "cyl = \"https://datosabiertos.jcyl.es/web/es/datos-abiertos-castilla-leon.html\"\n",
    "def scrap(url):\n",
    "    r  = requests.get(url)\n",
    "\n",
    "    data = r.text\n",
    "\n",
    "    soup = bs4.BeautifulSoup(data, \"html.parser\")\n",
    "    \n",
    "    return soup\n",
    "soup = scrap(cyl)\n",
    "\n",
    "# Locating JSON file\n",
    "cyl_json = [link.get('href') for link in soup.findAll('a') if \"json\" in link.get('href')]\n",
    "\n",
    "cultura = [x for x in cyl_json if 'agenda_cultural' in x][0]\n",
    "\n",
    "print(cultura)"
   ]
  },
  {
   "cell_type": "code",
   "execution_count": 3,
   "metadata": {},
   "outputs": [],
   "source": [
    "\"\"\"\n",
    "while True:\n",
    "\"\"\"   \n",
    "# Requesting the file\n",
    "r = requests.get(cultura)\n",
    "    \n",
    "# Having the file as a JSON object\n",
    "r = r.json() "
   ]
  },
  {
   "cell_type": "code",
   "execution_count": 4,
   "metadata": {},
   "outputs": [],
   "source": [
    "# Creating a map\n",
    "folium_map = folium.Map(center=r[0]['fields']['posicion'], zoom_start = 15000)\n",
    "\n",
    "# Creating a circle on the map\n",
    "for i in r:\n",
    "    #img = i['fields']['imagen_evento']\n",
    "    #encoded = base64.b64encode(open(scrap(img), 'rb').read()).decode()\n",
    "    # html = '<img src=\"data:image/jpeg;base64,{}\">'.format\n",
    "    #iframe = folium.IFrame(html(encoded), width=632+20, height=420+20) \n",
    "    if 'posicion' in i['fields']:\n",
    "        pos = i['fields']['posicion']\n",
    "    elif 'geometry' in i:\n",
    "        pos = i['geometry']['coordinates'][::-1]\n",
    "    if 'enlace_contenido' in i['fields']:\n",
    "        content = i['fields']['enlace_contenido']\n",
    "    if 'lugar_celebracion' in i['fields']:\n",
    "        lugar = i['fields']['lugar_celebracion']\n",
    "    if 'nombre_localidad' in i['fields']:\n",
    "        localidad = i['fields']['nombre_localidad']\n",
    "    folium.Circle(\n",
    "        radius=20,\n",
    "        location= pos,\n",
    "        popup= content, # folium.Popup(iframe, max_width=2650)\n",
    "        tooltip= i['fields']['titulo']+ '\\n\\n'+lugar+'\\n\\n'+ localidad,\n",
    "        color= '#'+str(random.randint(0,999999)),\n",
    "        fill=True,\n",
    "        ).add_to(folium_map)"
   ]
  },
  {
   "cell_type": "code",
   "execution_count": 5,
   "metadata": {},
   "outputs": [],
   "source": [
    "# Saving the map to a HTML file to be read by a web browser\n",
    "pagina = folium_map.save('cyl.html')"
   ]
  },
  {
   "cell_type": "code",
   "execution_count": 6,
   "metadata": {},
   "outputs": [
    {
     "data": {
      "text/plain": [
       "True"
      ]
     },
     "execution_count": 6,
     "metadata": {},
     "output_type": "execute_result"
    }
   ],
   "source": [
    "# Run html in webbrowser\n",
    "webbrowser.open('file://'+ os.path.realpath('cyl.html'), new = -1)"
   ]
  }
 ],
 "metadata": {
  "kernelspec": {
   "display_name": "Python 3",
   "language": "python",
   "name": "python3"
  },
  "language_info": {
   "codemirror_mode": {
    "name": "ipython",
    "version": 3
   },
   "file_extension": ".py",
   "mimetype": "text/x-python",
   "name": "python",
   "nbconvert_exporter": "python",
   "pygments_lexer": "ipython3",
   "version": "3.6.9"
  }
 },
 "nbformat": 4,
 "nbformat_minor": 4
}
