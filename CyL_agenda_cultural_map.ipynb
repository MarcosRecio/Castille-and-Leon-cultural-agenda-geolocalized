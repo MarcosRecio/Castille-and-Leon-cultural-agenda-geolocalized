{
 "cells": [
  {
   "cell_type": "code",
   "execution_count": 1,
   "metadata": {},
   "outputs": [],
   "source": [
    "# Map Castilla y León cultural agenda geolocalized\n",
    "import os\n",
    "import folium  #Librería para mapas\n",
    "import requests # Librería para hacer requests con url's\n",
    "import time\n",
    "import webbrowser # Librería para interactuar con el navegador\n",
    "import bs4 # Web Scrapping\n",
    "import random\n",
    "import base64\n",
    "#import cv2"
   ]
  },
  {
   "cell_type": "code",
   "execution_count": 2,
   "metadata": {},
   "outputs": [
    {
     "name": "stdout",
     "output_type": "stream",
     "text": [
      "https://datosabiertos.jcyl.es/web/jcyl/risp/es/cultura-ocio/agenda_cultural/1284806871500.json\n"
     ]
    }
   ],
   "source": [
    "# Web Scrapping\n",
    "\n",
    "cyl = \"https://datosabiertos.jcyl.es/web/es/datos-abiertos-castilla-leon.html\"\n",
    "def scrap(url):\n",
    "    r  = requests.get(url)\n",
    "\n",
    "    data = r.text\n",
    "\n",
    "    soup = bs4.BeautifulSoup(data, \"html.parser\")\n",
    "    \n",
    "    return soup\n",
    "soup = scrap(cyl)\n",
    "\n",
    "# Locating JSON file\n",
    "cyl_json = [link.get('href') for link in soup.findAll('a') if \"json\" in link.get('href')]\n",
    "\n",
    "cultura = [x for x in cyl_json if 'agenda_cultural' in x][0]\n",
    "\n",
    "print(cultura)"
   ]
  },
  {
   "cell_type": "code",
   "execution_count": 3,
   "metadata": {},
   "outputs": [],
   "source": [
    "\"\"\"\n",
    "while True:\n",
    "\"\"\"   \n",
    "# Requesting the file\n",
    "r = requests.get(cultura)\n",
    "    \n",
    "# Having the file as a JSON object\n",
    "r = r.json()\n",
    "   \n",
    "# Creating a map\n",
    "folium_map = folium.Map(center=r[0]['fields']['posicion'], zoom_start = 15000)\n",
    "\n",
    "# Creating a circle on the map\n",
    "for i in r:\n",
    "    #img = i['fields']['imagen_evento']\n",
    "    #encoded = base64.b64encode(open(scrap(img), 'rb').read()).decode()\n",
    "   # html = '<img src=\"data:image/jpeg;base64,{}\">'.format\n",
    "    #iframe = folium.IFrame(html(encoded), width=632+20, height=420+20) \n",
    "    \n",
    "    folium.Circle(\n",
    "        radius=20,\n",
    "        location= i['fields']['posicion'],\n",
    "        popup= i['fields']['enlace_contenido'], # folium.Popup(iframe, max_width=2650)\n",
    "        tooltip= i['fields']['titulo']+ '\\n\\n'+i['fields']['lugar_celebracion']+'\\n\\n'+ i['fields']['nombre_localidad'],\n",
    "        color= '#'+str(random.randint(0,999999)),\n",
    "        fill=True,\n",
    "        ).add_to(folium_map)\n",
    "    \n",
    "    "
   ]
  },
  {
   "cell_type": "code",
   "execution_count": 4,
   "metadata": {},
   "outputs": [],
   "source": [
    "# Saving the map to a HTML file to be read by a web browser\n",
    "pagina = folium_map.save('cyl.html')"
   ]
  },
  {
   "cell_type": "code",
   "execution_count": 5,
   "metadata": {},
   "outputs": [],
   "source": [
    "#%%html\n",
    "#<a href='cyl.html'></a>"
   ]
  },
  {
   "cell_type": "code",
   "execution_count": 6,
   "metadata": {},
   "outputs": [
    {
     "data": {
      "text/plain": [
       "True"
      ]
     },
     "execution_count": 6,
     "metadata": {},
     "output_type": "execute_result"
    }
   ],
   "source": [
    "# Run html in webbrowser\n",
    "webbrowser.open('file://'+ os.path.realpath('cyl.html'), new = -1)"
   ]
  },
  {
   "cell_type": "code",
   "execution_count": 16,
   "metadata": {},
   "outputs": [
    {
     "name": "stdout",
     "output_type": "stream",
     "text": [
      "{'datasetid': 'eventos-de-la-agenda-cultural-categorizados-y-geolocalizados', 'recordid': '930e4ed0ce0f8acafddbdc0a52ab0aea4287e37e', 'fields': {'categoria': 'Libros y Lectura', 'latitud': 41.76215711684424, 'cp': '42003', 'nombre_localidad': 'Soria', 'destinatarios': 'Adultos', 'lugar_celebracion': 'Biblioteca Pública de Soria', 'codigo_biblioteca': 'BPSOR', 'nombre_provincia': 'Soria', 'calle': 'C/ Nicolás Rabal, 25', 'descripcion': \"<p>El club de lectura de los <strong>Jueves </strong>es un club de narrativa que <strong>se reúne quincenalmente en horario de tarde (19:30 h.) </strong>en la Sección Local (2 Planta) de la Biblioteca de Soria. </p>\\n<p>El club del Jueves se reunirá el miércoles 8 de abril (el jueves 9 de abril es festivo) y el miércoels 22 de abril (el jueves 23 es festivo).</p>\\n<p><strong>&iquest;Qué es un club de lectura?</strong></p>\\n<p>Es un grupo de personas que leen el mismo libro en casa y posteriormente se reúnen en la Biblioteca para comentarlo.</p>\\n<p>La Biblioteca es la encargada de proponer los libros de lectura y facilitar un ejemplar a cada componente del club.</p>\\n<p><strong>&iquest;Cuántos componentes puede tener el Club?</strong></p>\\n<p>Cada club tiene un <strong>máximo de 18 personas</strong>.<br />\\nEn caso de que el número de solicitudes sea mayor se establecerá una lista de espera por orden de solicitud que irán incorporándose a medida que se produzcan bajas.</p>\\n<p><strong>Inscripción</strong></p>\\n<p>En el mostrador de Información (planta baja) o a través de internet rellenando el formulario <a href='https://bibliotecas.jcyl.es/web/jcyl/BibliotecaSoria/es/Plantilla100/1284367349641/_/_/_' title='' >'Solicitud de inscripción a clubes de lectura'</a>\", 'tematica': 'Club de lectura', 'fecha_inicio': '2019-12-19', 'id_evento': 1284898051294, 'codigo_provincia': 42, 'titulo': 'Club de lectura de los Jueves', 'posicion': [41.7621571168, -2.47441291809], 'id_localidad': 1179469197687, 'enlace_contenido': 'https://bibliotecas.jcyl.es/web/jcyl/BibliotecaSoria/es/Plantilla100Detalle/1284347458759/_/1284898051294/Comunicacion', 'evento_biblioteca': 'SI', 'imagen_evento': 'https://datosabiertos.jcyl.es/web/jcyl/binarios/494/338/3,0.png?blobheader=image%2Fgif&amp;blobheadername1=Cache-Control&amp;blobheadername2=Expires&amp;blobheadername3=Site&amp;blobheadervalue1=no-store%2Cno-cache%2Cmust-revalidate&amp;blobheadervalue2=0&amp;blobnocache=true', 'longitud': -2.4744129180908203}, 'geometry': {'type': 'Point', 'coordinates': [-2.47441291809, 41.7621571168]}, 'record_timestamp': '2020-03-25T12:00:11.065+01:00'}\n"
     ]
    }
   ],
   "source": [
    "print(r[0])"
   ]
  },
  {
   "cell_type": "code",
   "execution_count": 17,
   "metadata": {},
   "outputs": [
    {
     "ename": "NameError",
     "evalue": "name 'cv2' is not defined",
     "output_type": "error",
     "traceback": [
      "\u001b[0;31m---------------------------------------------------------------------------\u001b[0m",
      "\u001b[0;31mNameError\u001b[0m                                 Traceback (most recent call last)",
      "\u001b[0;32m<ipython-input-17-b86d9a6b838a>\u001b[0m in \u001b[0;36m<module>\u001b[0;34m\u001b[0m\n\u001b[0;32m----> 1\u001b[0;31m \u001b[0mimg\u001b[0m \u001b[0;34m=\u001b[0m \u001b[0mcv2\u001b[0m\u001b[0;34m.\u001b[0m\u001b[0mimread\u001b[0m\u001b[0;34m(\u001b[0m\u001b[0mscrap\u001b[0m\u001b[0;34m(\u001b[0m\u001b[0mr\u001b[0m\u001b[0;34m[\u001b[0m\u001b[0;36m0\u001b[0m\u001b[0;34m]\u001b[0m\u001b[0;34m[\u001b[0m\u001b[0;34m'fields'\u001b[0m\u001b[0;34m]\u001b[0m\u001b[0;34m[\u001b[0m\u001b[0;34m'imagen_evento'\u001b[0m\u001b[0;34m]\u001b[0m\u001b[0;34m)\u001b[0m\u001b[0;34m)\u001b[0m\u001b[0;34m\u001b[0m\u001b[0;34m\u001b[0m\u001b[0m\n\u001b[0m\u001b[1;32m      2\u001b[0m \u001b[0mcv2\u001b[0m\u001b[0;34m.\u001b[0m\u001b[0mimshow\u001b[0m\u001b[0;34m(\u001b[0m\u001b[0;34m'image'\u001b[0m\u001b[0;34m,\u001b[0m \u001b[0mimg\u001b[0m\u001b[0;34m)\u001b[0m\u001b[0;34m\u001b[0m\u001b[0;34m\u001b[0m\u001b[0m\n",
      "\u001b[0;31mNameError\u001b[0m: name 'cv2' is not defined"
     ]
    }
   ],
   "source": [
    "img = cv2.imread(scrap(r[0]['fields']['imagen_evento'])) \n",
    "cv2.imshow('image', img)"
   ]
  },
  {
   "cell_type": "code",
   "execution_count": null,
   "metadata": {},
   "outputs": [],
   "source": []
  }
 ],
 "metadata": {
  "kernelspec": {
   "display_name": "Python 3",
   "language": "python",
   "name": "python3"
  },
  "language_info": {
   "codemirror_mode": {
    "name": "ipython",
    "version": 3
   },
   "file_extension": ".py",
   "mimetype": "text/x-python",
   "name": "python",
   "nbconvert_exporter": "python",
   "pygments_lexer": "ipython3",
   "version": "3.6.9"
  }
 },
 "nbformat": 4,
 "nbformat_minor": 4
}
